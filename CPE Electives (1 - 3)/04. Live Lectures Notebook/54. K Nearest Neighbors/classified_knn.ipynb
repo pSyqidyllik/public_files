{
  "nbformat": 4,
  "nbformat_minor": 0,
  "metadata": {
    "colab": {
      "name": "KNN.ipynb",
      "provenance": [],
      "collapsed_sections": []
    },
    "kernelspec": {
      "name": "python3",
      "display_name": "Python 3"
    },
    "language_info": {
      "name": "python"
    }
  },
  "cells": [
    {
      "cell_type": "markdown",
      "metadata": {
        "id": "Cv6RkEvFL4Bs"
      },
      "source": [
        "# K Nearest Neighbors"
      ]
    },
    {
      "cell_type": "markdown",
      "metadata": {
        "id": "CGp6P_OQLpux"
      },
      "source": [
        "## Imports"
      ]
    },
    {
      "cell_type": "code",
      "metadata": {
        "id": "rNqLIOy0L2Hx"
      },
      "source": [
        "import pandas as pd\n",
        "import numpy as np\n",
        "import matplotlib.pyplot as plt\n",
        "import seaborn as sns"
      ],
      "execution_count": 2,
      "outputs": []
    },
    {
      "cell_type": "markdown",
      "metadata": {
        "id": "xN_yLu83L_MV"
      },
      "source": [
        "## DataSet/s"
      ]
    },
    {
      "cell_type": "code",
      "metadata": {
        "colab": {
          "base_uri": "https://localhost:8080/",
          "height": 204
        },
        "id": "SpOfof1kNsRi",
        "outputId": "d5e1ba26-9a85-419b-f225-36f134476779"
      },
      "source": [
        "# Load Dataset\n",
        "# Preview Dataset\n",
        "\n",
        "df = pd.read_csv('Classified Data', index_col = 0)\n",
        "df.sample(5)"
      ],
      "execution_count": 6,
      "outputs": [
        {
          "output_type": "execute_result",
          "data": {
            "text/html": [
              "<div>\n",
              "<style scoped>\n",
              "    .dataframe tbody tr th:only-of-type {\n",
              "        vertical-align: middle;\n",
              "    }\n",
              "\n",
              "    .dataframe tbody tr th {\n",
              "        vertical-align: top;\n",
              "    }\n",
              "\n",
              "    .dataframe thead th {\n",
              "        text-align: right;\n",
              "    }\n",
              "</style>\n",
              "<table border=\"1\" class=\"dataframe\">\n",
              "  <thead>\n",
              "    <tr style=\"text-align: right;\">\n",
              "      <th></th>\n",
              "      <th>WTT</th>\n",
              "      <th>PTI</th>\n",
              "      <th>EQW</th>\n",
              "      <th>SBI</th>\n",
              "      <th>LQE</th>\n",
              "      <th>QWG</th>\n",
              "      <th>FDJ</th>\n",
              "      <th>PJF</th>\n",
              "      <th>HQE</th>\n",
              "      <th>NXJ</th>\n",
              "      <th>TARGET CLASS</th>\n",
              "    </tr>\n",
              "  </thead>\n",
              "  <tbody>\n",
              "    <tr>\n",
              "      <th>72</th>\n",
              "      <td>1.225894</td>\n",
              "      <td>0.607008</td>\n",
              "      <td>1.166722</td>\n",
              "      <td>0.559611</td>\n",
              "      <td>0.527602</td>\n",
              "      <td>0.765398</td>\n",
              "      <td>0.719059</td>\n",
              "      <td>1.024085</td>\n",
              "      <td>1.321101</td>\n",
              "      <td>1.334634</td>\n",
              "      <td>1</td>\n",
              "    </tr>\n",
              "    <tr>\n",
              "      <th>313</th>\n",
              "      <td>1.371623</td>\n",
              "      <td>1.039502</td>\n",
              "      <td>1.462042</td>\n",
              "      <td>1.042681</td>\n",
              "      <td>1.371859</td>\n",
              "      <td>1.434275</td>\n",
              "      <td>0.524596</td>\n",
              "      <td>1.178556</td>\n",
              "      <td>0.781923</td>\n",
              "      <td>1.112732</td>\n",
              "      <td>0</td>\n",
              "    </tr>\n",
              "    <tr>\n",
              "      <th>684</th>\n",
              "      <td>0.620550</td>\n",
              "      <td>1.190297</td>\n",
              "      <td>1.292879</td>\n",
              "      <td>0.511397</td>\n",
              "      <td>1.123849</td>\n",
              "      <td>1.049019</td>\n",
              "      <td>1.007882</td>\n",
              "      <td>1.511716</td>\n",
              "      <td>1.005578</td>\n",
              "      <td>1.464334</td>\n",
              "      <td>0</td>\n",
              "    </tr>\n",
              "    <tr>\n",
              "      <th>948</th>\n",
              "      <td>0.467059</td>\n",
              "      <td>1.234031</td>\n",
              "      <td>1.177821</td>\n",
              "      <td>0.464771</td>\n",
              "      <td>1.051342</td>\n",
              "      <td>1.013430</td>\n",
              "      <td>0.669465</td>\n",
              "      <td>1.209963</td>\n",
              "      <td>1.145848</td>\n",
              "      <td>1.407046</td>\n",
              "      <td>0</td>\n",
              "    </tr>\n",
              "    <tr>\n",
              "      <th>212</th>\n",
              "      <td>1.330273</td>\n",
              "      <td>0.951457</td>\n",
              "      <td>0.567537</td>\n",
              "      <td>0.877589</td>\n",
              "      <td>0.977498</td>\n",
              "      <td>0.778858</td>\n",
              "      <td>0.849949</td>\n",
              "      <td>1.076063</td>\n",
              "      <td>1.744034</td>\n",
              "      <td>1.235066</td>\n",
              "      <td>1</td>\n",
              "    </tr>\n",
              "  </tbody>\n",
              "</table>\n",
              "</div>"
            ],
            "text/plain": [
              "          WTT       PTI       EQW  ...       HQE       NXJ  TARGET CLASS\n",
              "72   1.225894  0.607008  1.166722  ...  1.321101  1.334634             1\n",
              "313  1.371623  1.039502  1.462042  ...  0.781923  1.112732             0\n",
              "684  0.620550  1.190297  1.292879  ...  1.005578  1.464334             0\n",
              "948  0.467059  1.234031  1.177821  ...  1.145848  1.407046             0\n",
              "212  1.330273  0.951457  0.567537  ...  1.744034  1.235066             1\n",
              "\n",
              "[5 rows x 11 columns]"
            ]
          },
          "metadata": {},
          "execution_count": 6
        }
      ]
    },
    {
      "cell_type": "markdown",
      "metadata": {
        "id": "RxevWFmeN72j"
      },
      "source": [
        "## Data Scaling"
      ]
    },
    {
      "cell_type": "code",
      "metadata": {
        "id": "oPZZ3A3UOQ_q"
      },
      "source": [
        "# Import Standard Scaler\n",
        "\n",
        "from sklearn.preprocessing import StandardScaler"
      ],
      "execution_count": 7,
      "outputs": []
    },
    {
      "cell_type": "code",
      "metadata": {
        "colab": {
          "base_uri": "https://localhost:8080/"
        },
        "id": "cmGbwRMGOWaD",
        "outputId": "73d39ef5-2a94-49b1-ddb3-08e2f23207ae"
      },
      "source": [
        "# Standard Scaling Instances\n",
        "# You do not need the target class at this point (scaling)\n",
        "\n",
        "scaler = StandardScaler()\n",
        "scaler.fit(df.drop('TARGET CLASS', axis = 1))"
      ],
      "execution_count": 9,
      "outputs": [
        {
          "output_type": "execute_result",
          "data": {
            "text/plain": [
              "StandardScaler(copy=True, with_mean=True, with_std=True)"
            ]
          },
          "metadata": {},
          "execution_count": 9
        }
      ]
    },
    {
      "cell_type": "code",
      "metadata": {
        "colab": {
          "base_uri": "https://localhost:8080/"
        },
        "id": "9i9LE6O3Oid7",
        "outputId": "7920d8f3-75b8-46da-9355-6ecc6e3d386b"
      },
      "source": [
        "# Transform the Data (Scaled Features)\n",
        "\n",
        "scaled_features = scaler.transform(df.drop('TARGET CLASS', axis = 1))\n",
        "scaled_features"
      ],
      "execution_count": 10,
      "outputs": [
        {
          "output_type": "execute_result",
          "data": {
            "text/plain": [
              "array([[-0.12354188,  0.18590747, -0.91343069, ..., -1.48236813,\n",
              "        -0.9497194 , -0.64331425],\n",
              "       [-1.08483602, -0.43034845, -1.02531333, ..., -0.20224031,\n",
              "        -1.82805088,  0.63675862],\n",
              "       [-0.78870217,  0.33931821,  0.30151137, ...,  0.28570652,\n",
              "        -0.68249379, -0.37784986],\n",
              "       ...,\n",
              "       [ 0.64177714, -0.51308341, -0.17920486, ..., -2.36249443,\n",
              "        -0.81426092,  0.11159651],\n",
              "       [ 0.46707241, -0.98278576, -1.46519359, ..., -0.03677699,\n",
              "         0.40602453, -0.85567   ],\n",
              "       [-0.38765353, -0.59589427, -1.4313981 , ..., -0.56778932,\n",
              "         0.3369971 ,  0.01034996]])"
            ]
          },
          "metadata": {},
          "execution_count": 10
        }
      ]
    },
    {
      "cell_type": "code",
      "metadata": {
        "colab": {
          "base_uri": "https://localhost:8080/",
          "height": 204
        },
        "id": "Rg1FSgNqO-Zt",
        "outputId": "0e534261-e6bf-4fe5-f649-5cbedb89cd66"
      },
      "source": [
        "df_feat = pd.DataFrame(scaled_features, columns = df.columns[:-1]) # excluding the last column (:-1)\n",
        "df_feat.head()"
      ],
      "execution_count": 15,
      "outputs": [
        {
          "output_type": "execute_result",
          "data": {
            "text/html": [
              "<div>\n",
              "<style scoped>\n",
              "    .dataframe tbody tr th:only-of-type {\n",
              "        vertical-align: middle;\n",
              "    }\n",
              "\n",
              "    .dataframe tbody tr th {\n",
              "        vertical-align: top;\n",
              "    }\n",
              "\n",
              "    .dataframe thead th {\n",
              "        text-align: right;\n",
              "    }\n",
              "</style>\n",
              "<table border=\"1\" class=\"dataframe\">\n",
              "  <thead>\n",
              "    <tr style=\"text-align: right;\">\n",
              "      <th></th>\n",
              "      <th>WTT</th>\n",
              "      <th>PTI</th>\n",
              "      <th>EQW</th>\n",
              "      <th>SBI</th>\n",
              "      <th>LQE</th>\n",
              "      <th>QWG</th>\n",
              "      <th>FDJ</th>\n",
              "      <th>PJF</th>\n",
              "      <th>HQE</th>\n",
              "      <th>NXJ</th>\n",
              "    </tr>\n",
              "  </thead>\n",
              "  <tbody>\n",
              "    <tr>\n",
              "      <th>0</th>\n",
              "      <td>-0.123542</td>\n",
              "      <td>0.185907</td>\n",
              "      <td>-0.913431</td>\n",
              "      <td>0.319629</td>\n",
              "      <td>-1.033637</td>\n",
              "      <td>-2.308375</td>\n",
              "      <td>-0.798951</td>\n",
              "      <td>-1.482368</td>\n",
              "      <td>-0.949719</td>\n",
              "      <td>-0.643314</td>\n",
              "    </tr>\n",
              "    <tr>\n",
              "      <th>1</th>\n",
              "      <td>-1.084836</td>\n",
              "      <td>-0.430348</td>\n",
              "      <td>-1.025313</td>\n",
              "      <td>0.625388</td>\n",
              "      <td>-0.444847</td>\n",
              "      <td>-1.152706</td>\n",
              "      <td>-1.129797</td>\n",
              "      <td>-0.202240</td>\n",
              "      <td>-1.828051</td>\n",
              "      <td>0.636759</td>\n",
              "    </tr>\n",
              "    <tr>\n",
              "      <th>2</th>\n",
              "      <td>-0.788702</td>\n",
              "      <td>0.339318</td>\n",
              "      <td>0.301511</td>\n",
              "      <td>0.755873</td>\n",
              "      <td>2.031693</td>\n",
              "      <td>-0.870156</td>\n",
              "      <td>2.599818</td>\n",
              "      <td>0.285707</td>\n",
              "      <td>-0.682494</td>\n",
              "      <td>-0.377850</td>\n",
              "    </tr>\n",
              "    <tr>\n",
              "      <th>3</th>\n",
              "      <td>0.982841</td>\n",
              "      <td>1.060193</td>\n",
              "      <td>-0.621399</td>\n",
              "      <td>0.625299</td>\n",
              "      <td>0.452820</td>\n",
              "      <td>-0.267220</td>\n",
              "      <td>1.750208</td>\n",
              "      <td>1.066491</td>\n",
              "      <td>1.241325</td>\n",
              "      <td>-1.026987</td>\n",
              "    </tr>\n",
              "    <tr>\n",
              "      <th>4</th>\n",
              "      <td>1.139275</td>\n",
              "      <td>-0.640392</td>\n",
              "      <td>-0.709819</td>\n",
              "      <td>-0.057175</td>\n",
              "      <td>0.822886</td>\n",
              "      <td>-0.936773</td>\n",
              "      <td>0.596782</td>\n",
              "      <td>-1.472352</td>\n",
              "      <td>1.040772</td>\n",
              "      <td>0.276510</td>\n",
              "    </tr>\n",
              "  </tbody>\n",
              "</table>\n",
              "</div>"
            ],
            "text/plain": [
              "        WTT       PTI       EQW  ...       PJF       HQE       NXJ\n",
              "0 -0.123542  0.185907 -0.913431  ... -1.482368 -0.949719 -0.643314\n",
              "1 -1.084836 -0.430348 -1.025313  ... -0.202240 -1.828051  0.636759\n",
              "2 -0.788702  0.339318  0.301511  ...  0.285707 -0.682494 -0.377850\n",
              "3  0.982841  1.060193 -0.621399  ...  1.066491  1.241325 -1.026987\n",
              "4  1.139275 -0.640392 -0.709819  ... -1.472352  1.040772  0.276510\n",
              "\n",
              "[5 rows x 10 columns]"
            ]
          },
          "metadata": {},
          "execution_count": 15
        }
      ]
    },
    {
      "cell_type": "markdown",
      "metadata": {
        "id": "RFmeHPcQPUD7"
      },
      "source": [
        "## Train - Test Split"
      ]
    },
    {
      "cell_type": "code",
      "metadata": {
        "id": "6Bl3oDJBPonc"
      },
      "source": [
        "# Import\n",
        "\n",
        "from sklearn.model_selection import train_test_split"
      ],
      "execution_count": 13,
      "outputs": []
    },
    {
      "cell_type": "code",
      "metadata": {
        "id": "AX1zjL2tQBvJ"
      },
      "source": [
        "# Splits\n",
        "X = df_feat\n",
        "y = df['TARGET CLASS']\n",
        "\n",
        "X_train, X_test, y_train, y_test = train_test_split(X, y, test_size = 0.3, random_state = 101)"
      ],
      "execution_count": 20,
      "outputs": []
    },
    {
      "cell_type": "code",
      "metadata": {
        "colab": {
          "base_uri": "https://localhost:8080/",
          "height": 204
        },
        "id": "jAbpuQ-2QR5j",
        "outputId": "b1c88af5-c44c-49e9-9197-c0deeaabf3ea"
      },
      "source": [
        "# Show some features X_train\n",
        "\n",
        "X_train.head(5)"
      ],
      "execution_count": 23,
      "outputs": [
        {
          "output_type": "execute_result",
          "data": {
            "text/html": [
              "<div>\n",
              "<style scoped>\n",
              "    .dataframe tbody tr th:only-of-type {\n",
              "        vertical-align: middle;\n",
              "    }\n",
              "\n",
              "    .dataframe tbody tr th {\n",
              "        vertical-align: top;\n",
              "    }\n",
              "\n",
              "    .dataframe thead th {\n",
              "        text-align: right;\n",
              "    }\n",
              "</style>\n",
              "<table border=\"1\" class=\"dataframe\">\n",
              "  <thead>\n",
              "    <tr style=\"text-align: right;\">\n",
              "      <th></th>\n",
              "      <th>WTT</th>\n",
              "      <th>PTI</th>\n",
              "      <th>EQW</th>\n",
              "      <th>SBI</th>\n",
              "      <th>LQE</th>\n",
              "      <th>QWG</th>\n",
              "      <th>FDJ</th>\n",
              "      <th>PJF</th>\n",
              "      <th>HQE</th>\n",
              "      <th>NXJ</th>\n",
              "    </tr>\n",
              "  </thead>\n",
              "  <tbody>\n",
              "    <tr>\n",
              "      <th>290</th>\n",
              "      <td>-0.865812</td>\n",
              "      <td>-0.426085</td>\n",
              "      <td>-0.098704</td>\n",
              "      <td>-0.358143</td>\n",
              "      <td>-0.090834</td>\n",
              "      <td>-1.445613</td>\n",
              "      <td>0.943619</td>\n",
              "      <td>-0.711715</td>\n",
              "      <td>-1.416361</td>\n",
              "      <td>1.335201</td>\n",
              "    </tr>\n",
              "    <tr>\n",
              "      <th>167</th>\n",
              "      <td>-0.289633</td>\n",
              "      <td>0.427599</td>\n",
              "      <td>-0.324566</td>\n",
              "      <td>-0.291304</td>\n",
              "      <td>-1.047206</td>\n",
              "      <td>-0.847424</td>\n",
              "      <td>0.309935</td>\n",
              "      <td>-2.102427</td>\n",
              "      <td>-1.071680</td>\n",
              "      <td>0.809926</td>\n",
              "    </tr>\n",
              "    <tr>\n",
              "      <th>486</th>\n",
              "      <td>-1.628411</td>\n",
              "      <td>0.840546</td>\n",
              "      <td>1.164633</td>\n",
              "      <td>-0.985219</td>\n",
              "      <td>0.346949</td>\n",
              "      <td>-0.064661</td>\n",
              "      <td>1.008390</td>\n",
              "      <td>-0.184080</td>\n",
              "      <td>0.865138</td>\n",
              "      <td>-0.630975</td>\n",
              "    </tr>\n",
              "    <tr>\n",
              "      <th>683</th>\n",
              "      <td>-0.576123</td>\n",
              "      <td>-0.157888</td>\n",
              "      <td>0.102529</td>\n",
              "      <td>1.176857</td>\n",
              "      <td>-2.475351</td>\n",
              "      <td>-0.599677</td>\n",
              "      <td>-0.249565</td>\n",
              "      <td>0.262795</td>\n",
              "      <td>0.598726</td>\n",
              "      <td>1.376306</td>\n",
              "    </tr>\n",
              "    <tr>\n",
              "      <th>876</th>\n",
              "      <td>0.059207</td>\n",
              "      <td>1.006760</td>\n",
              "      <td>1.932615</td>\n",
              "      <td>2.225987</td>\n",
              "      <td>-0.570004</td>\n",
              "      <td>0.634646</td>\n",
              "      <td>2.427879</td>\n",
              "      <td>1.136821</td>\n",
              "      <td>0.104758</td>\n",
              "      <td>-0.175808</td>\n",
              "    </tr>\n",
              "  </tbody>\n",
              "</table>\n",
              "</div>"
            ],
            "text/plain": [
              "          WTT       PTI       EQW  ...       PJF       HQE       NXJ\n",
              "290 -0.865812 -0.426085 -0.098704  ... -0.711715 -1.416361  1.335201\n",
              "167 -0.289633  0.427599 -0.324566  ... -2.102427 -1.071680  0.809926\n",
              "486 -1.628411  0.840546  1.164633  ... -0.184080  0.865138 -0.630975\n",
              "683 -0.576123 -0.157888  0.102529  ...  0.262795  0.598726  1.376306\n",
              "876  0.059207  1.006760  1.932615  ...  1.136821  0.104758 -0.175808\n",
              "\n",
              "[5 rows x 10 columns]"
            ]
          },
          "metadata": {},
          "execution_count": 23
        }
      ]
    },
    {
      "cell_type": "code",
      "metadata": {
        "colab": {
          "base_uri": "https://localhost:8080/"
        },
        "id": "o76nFwoLQYKs",
        "outputId": "c1eac8c8-b8aa-46e3-9cc9-46522f33720d"
      },
      "source": [
        "# Show some features X_test\n",
        "\n",
        "y_train.head(5)"
      ],
      "execution_count": 24,
      "outputs": [
        {
          "output_type": "execute_result",
          "data": {
            "text/plain": [
              "290    0\n",
              "167    1\n",
              "486    0\n",
              "683    1\n",
              "876    0\n",
              "Name: TARGET CLASS, dtype: int64"
            ]
          },
          "metadata": {},
          "execution_count": 24
        }
      ]
    },
    {
      "cell_type": "markdown",
      "metadata": {
        "id": "T1WWKmkwQvST"
      },
      "source": [
        "## KNN"
      ]
    },
    {
      "cell_type": "code",
      "metadata": {
        "id": "C9VxED46Q4IK"
      },
      "source": [
        "# Import\n",
        "\n",
        "from sklearn.neighbors import KNeighborsClassifier"
      ],
      "execution_count": 25,
      "outputs": []
    },
    {
      "cell_type": "code",
      "metadata": {
        "id": "Ga4gL1JnQ8fb"
      },
      "source": [
        "# Instance of KNN\n",
        "\n",
        "model = KNeighborsClassifier(n_neighbors = 1) # 1? # 2? 3?"
      ],
      "execution_count": 26,
      "outputs": []
    },
    {
      "cell_type": "code",
      "metadata": {
        "colab": {
          "base_uri": "https://localhost:8080/"
        },
        "id": "8EIS9c-hRw7r",
        "outputId": "cad2b456-698e-4557-ee8c-2c40057356ce"
      },
      "source": [
        "# Fit\n",
        "\n",
        "model.fit(X_train, y_train)"
      ],
      "execution_count": 27,
      "outputs": [
        {
          "output_type": "execute_result",
          "data": {
            "text/plain": [
              "KNeighborsClassifier(algorithm='auto', leaf_size=30, metric='minkowski',\n",
              "                     metric_params=None, n_jobs=None, n_neighbors=1, p=2,\n",
              "                     weights='uniform')"
            ]
          },
          "metadata": {},
          "execution_count": 27
        }
      ]
    },
    {
      "cell_type": "code",
      "metadata": {
        "colab": {
          "base_uri": "https://localhost:8080/"
        },
        "id": "yevN4IvcR07M",
        "outputId": "da8c50aa-744b-43ad-9e00-6dde1a8d633b"
      },
      "source": [
        "# Predictions\n",
        "\n",
        "predictions = model.predict(X_test)\n",
        "predictions"
      ],
      "execution_count": 34,
      "outputs": [
        {
          "output_type": "execute_result",
          "data": {
            "text/plain": [
              "array([0, 0, 0, 0, 0, 0, 1, 1, 1, 0, 1, 0, 0, 1, 0, 1, 1, 1, 1, 0, 0, 1,\n",
              "       0, 1, 1, 0, 0, 0, 1, 0, 0, 1, 1, 0, 1, 0, 0, 0, 1, 0, 1, 1, 0, 1,\n",
              "       1, 0, 1, 1, 0, 1, 0, 1, 1, 1, 0, 0, 0, 0, 0, 0, 0, 1, 1, 1, 0, 1,\n",
              "       0, 0, 0, 0, 0, 0, 1, 0, 0, 0, 0, 0, 1, 0, 1, 0, 0, 0, 1, 0, 0, 0,\n",
              "       1, 0, 0, 1, 0, 1, 0, 0, 1, 1, 0, 0, 0, 1, 1, 1, 0, 0, 0, 1, 1, 0,\n",
              "       0, 0, 0, 0, 1, 0, 1, 1, 0, 1, 1, 1, 0, 1, 1, 1, 0, 1, 0, 0, 0, 1,\n",
              "       1, 0, 1, 0, 1, 1, 1, 0, 0, 1, 1, 0, 1, 0, 0, 0, 1, 1, 1, 0, 1, 0,\n",
              "       1, 0, 0, 1, 0, 0, 0, 1, 0, 0, 1, 0, 1, 0, 0, 0, 0, 1, 1, 1, 0, 0,\n",
              "       1, 1, 0, 0, 1, 0, 1, 0, 1, 0, 1, 1, 0, 1, 1, 1, 0, 1, 1, 1, 0, 1,\n",
              "       0, 1, 0, 0, 1, 1, 0, 1, 0, 0, 0, 0, 1, 1, 1, 1, 0, 0, 0, 1, 0, 0,\n",
              "       0, 1, 0, 0, 1, 1, 0, 1, 0, 0, 1, 1, 0, 1, 0, 1, 0, 0, 1, 0, 0, 1,\n",
              "       0, 0, 1, 0, 0, 0, 0, 1, 0, 0, 0, 0, 1, 1, 0, 1, 1, 0, 1, 0, 1, 1,\n",
              "       1, 0, 0, 1, 1, 0, 0, 0, 0, 0, 0, 0, 1, 0, 1, 1, 1, 0, 1, 0, 0, 0,\n",
              "       0, 1, 1, 0, 0, 0, 1, 1, 1, 0, 1, 1, 1, 0])"
            ]
          },
          "metadata": {},
          "execution_count": 34
        }
      ]
    },
    {
      "cell_type": "markdown",
      "metadata": {
        "id": "iqdVchAhR6xU"
      },
      "source": [
        "## Evaluation Metrics"
      ]
    },
    {
      "cell_type": "code",
      "metadata": {
        "id": "6ddkvr-VSBwT"
      },
      "source": [
        "# Import\n",
        "\n",
        "from sklearn.metrics import classification_report, confusion_matrix"
      ],
      "execution_count": 30,
      "outputs": []
    },
    {
      "cell_type": "code",
      "metadata": {
        "colab": {
          "base_uri": "https://localhost:8080/",
          "height": 282
        },
        "id": "5Kf3qNmsSIbF",
        "outputId": "aa5b6044-ad5b-4e79-e2bb-5270dacaecd5"
      },
      "source": [
        "# Confusion Matrix via Heat Map\n",
        "\n",
        "cm = confusion_matrix(y_test, predictions)\n",
        "sns.heatmap(cm, annot = True, fmt = 'g')"
      ],
      "execution_count": 37,
      "outputs": [
        {
          "output_type": "execute_result",
          "data": {
            "text/plain": [
              "<matplotlib.axes._subplots.AxesSubplot at 0x7fca504153d0>"
            ]
          },
          "metadata": {},
          "execution_count": 37
        },
        {
          "output_type": "display_data",
          "data": {
            "image/png": "[encoded data removed]",
            "text/plain": [
              "<Figure size 432x288 with 2 Axes>"
            ]
          },
          "metadata": {
            "needs_background": "light"
          }
        }
      ]
    },
    {
      "cell_type": "code",
      "metadata": {
        "colab": {
          "base_uri": "https://localhost:8080/"
        },
        "id": "DdjMaEN-SQ6s",
        "outputId": "c2889c16-7461-49bb-c70b-e274cdf6e1b1"
      },
      "source": [
        "# Classification Report\n",
        "\n",
        "print(classification_report(y_test, predictions))"
      ],
      "execution_count": 38,
      "outputs": [
        {
          "output_type": "stream",
          "name": "stdout",
          "text": [
            "              precision    recall  f1-score   support\n",
            "\n",
            "           0       0.91      0.95      0.93       159\n",
            "           1       0.94      0.89      0.92       141\n",
            "\n",
            "    accuracy                           0.92       300\n",
            "   macro avg       0.92      0.92      0.92       300\n",
            "weighted avg       0.92      0.92      0.92       300\n",
            "\n"
          ]
        }
      ]
    },
    {
      "cell_type": "markdown",
      "metadata": {
        "id": "0ym2vIlHTKrM"
      },
      "source": [
        "## Elbow Method for Selecting Optimized K Values"
      ]
    },
    {
      "cell_type": "code",
      "metadata": {
        "id": "mtXrrnfXTP0E"
      },
      "source": [
        "# Iterate through error_rates\n",
        "\n",
        "error_rate = []\n",
        "\n",
        "for i in range(1, 40):\n",
        "\n",
        "  model = KNeighborsClassifier(n_neighbors  = i)\n",
        "\n",
        "  model.fit(X_train, y_train)\n",
        "  pred_i = model.predict(X_test)\n",
        "  \n",
        "  error_rate.append(np.mean(pred_i != y_test))"
      ],
      "execution_count": 39,
      "outputs": []
    },
    {
      "cell_type": "code",
      "metadata": {
        "colab": {
          "base_uri": "https://localhost:8080/",
          "height": 404
        },
        "id": "BdrRKUO-Tv7k",
        "outputId": "7455de2a-4cf8-4778-b8df-3e22afc36f01"
      },
      "source": [
        "# Plot Graph\n",
        "\n",
        "plt.figure(figsize = (10,6))\n",
        "plt.plot(range(1,40), error_rate, color = 'b', linestyle = '-', marker = 'o', markerfacecolor = 'r', markersize = 10)\n",
        "plt.title('Error Rate vs K Value')\n",
        "plt.xlabel('K')\n",
        "plt.ylabel('Error Rate')\n",
        "plt.grid()"
      ],
      "execution_count": 44,
      "outputs": [
        {
          "output_type": "display_data",
          "data": {
            "image/png": "[encoded data removed]",
            "text/plain": [
              "<Figure size 720x432 with 1 Axes>"
            ]
          },
          "metadata": {
            "needs_background": "light"
          }
        }
      ]
    },
    {
      "cell_type": "markdown",
      "metadata": {
        "id": "8HvJzLwmT2Al"
      },
      "source": [
        "## Re-model with new values"
      ]
    },
    {
      "cell_type": "code",
      "metadata": {
        "colab": {
          "base_uri": "https://localhost:8080/"
        },
        "id": "3LMce1B3U3Pj",
        "outputId": "de6e8658-9bea-4e93-ffe0-196cbff93a43"
      },
      "source": [
        "# Re-Model\n",
        "\n",
        "new_model = KNeighborsClassifier(n_neighbors = 17)\n",
        "new_model.fit(X_train, y_train)\n",
        "predictions = new_model.predict(X_test)\n",
        "\n",
        "print(confusion_matrix(y_test, predictions))\n",
        "print('\\n')\n",
        "print(classification_report(y_test, predictions))"
      ],
      "execution_count": 48,
      "outputs": [
        {
          "output_type": "stream",
          "name": "stdout",
          "text": [
            "[[153   6]\n",
            " [  9 132]]\n",
            "\n",
            "\n",
            "              precision    recall  f1-score   support\n",
            "\n",
            "           0       0.94      0.96      0.95       159\n",
            "           1       0.96      0.94      0.95       141\n",
            "\n",
            "    accuracy                           0.95       300\n",
            "   macro avg       0.95      0.95      0.95       300\n",
            "weighted avg       0.95      0.95      0.95       300\n",
            "\n"
          ]
        }
      ]
    },
    {
      "cell_type": "code",
      "metadata": {
        "id": "ylIk-NXSVMkU"
      },
      "source": [
        ""
      ],
      "execution_count": null,
      "outputs": []
    }
  ]
}